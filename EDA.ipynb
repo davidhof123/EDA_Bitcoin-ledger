{
 "cells": [
  {
   "cell_type": "code",
   "execution_count": 1,
   "id": "866ee54e",
   "metadata": {},
   "outputs": [],
   "source": [
    "# BigQuery connection\n",
    "%load_ext google.cloud.bigquery"
   ]
  },
  {
   "cell_type": "code",
   "execution_count": 29,
   "id": "32ae1b8e",
   "metadata": {},
   "outputs": [],
   "source": [
    "# imports\n",
    "from google.cloud import bigquery\n",
    "import pandas as pd\n",
    "import numpy as np\n",
    "from bq_helper import BigQueryHelper\n",
    "import plotly\n",
    "from matplotlib import pyplot as plt\n",
    "import seaborn as sns\n",
    "sns.set_theme(style=\"whitegrid\")"
   ]
  },
  {
   "cell_type": "code",
   "execution_count": 3,
   "id": "a4dd649c",
   "metadata": {},
   "outputs": [],
   "source": [
    "# API key verification for Google Cloud\n",
    "import os\n",
    "os.environ[\"GOOGLE_APPLICATION_CREDENTIALS\"]=\"/Users/davidhofhuizen/Downloads/ambient-fuze-343609-fc7da1815720.json\""
   ]
  },
  {
   "cell_type": "code",
   "execution_count": 48,
   "id": "741b2412",
   "metadata": {},
   "outputs": [],
   "source": [
    "client = bigquery.Client()"
   ]
  },
  {
   "cell_type": "code",
   "execution_count": 6,
   "id": "bb02a20b",
   "metadata": {},
   "outputs": [
    {
     "name": "stderr",
     "output_type": "stream",
     "text": [
      "Query complete after 0.01s: 100%|████████████| 7/7 [00:00<00:00, 2176.11query/s]\n",
      "Downloading: 100%|███████████████████████| 1000/1000 [00:01<00:00, 666.91rows/s]\n"
     ]
    }
   ],
   "source": [
    "# Test: Top 1000 bigquery balances\n",
    "%%bigquery Top_1000_balances\n",
    "WITH double_entry_book AS (\n",
    "   -- debits\n",
    "   SELECT array_to_string(inputs.addresses, \",\") as address, inputs.type, -inputs.value as value\n",
    "   FROM `bigquery-public-data.crypto_bitcoin.inputs` as inputs\n",
    "   UNION ALL\n",
    "   -- credits\n",
    "   SELECT array_to_string(outputs.addresses, \",\") as address, outputs.type, outputs.value as value\n",
    "   FROM `bigquery-public-data.crypto_bitcoin.outputs` as outputs\n",
    ")\n",
    "SELECT address, type, sum(value) as balance\n",
    "FROM double_entry_book\n",
    "GROUP BY address, type\n",
    "ORDER BY balance DESC\n",
    "LIMIT 1000"
   ]
  },
  {
   "cell_type": "code",
   "execution_count": 7,
   "id": "73e25f80",
   "metadata": {},
   "outputs": [
    {
     "data": {
      "text/html": [
       "<div>\n",
       "<style scoped>\n",
       "    .dataframe tbody tr th:only-of-type {\n",
       "        vertical-align: middle;\n",
       "    }\n",
       "\n",
       "    .dataframe tbody tr th {\n",
       "        vertical-align: top;\n",
       "    }\n",
       "\n",
       "    .dataframe thead th {\n",
       "        text-align: right;\n",
       "    }\n",
       "</style>\n",
       "<table border=\"1\" class=\"dataframe\">\n",
       "  <thead>\n",
       "    <tr style=\"text-align: right;\">\n",
       "      <th></th>\n",
       "      <th>address</th>\n",
       "      <th>type</th>\n",
       "      <th>balance</th>\n",
       "    </tr>\n",
       "  </thead>\n",
       "  <tbody>\n",
       "    <tr>\n",
       "      <th>0</th>\n",
       "      <td>34xp4vRoCGJym3xR7yCVPFHoCNxv4Twseo</td>\n",
       "      <td>scripthash</td>\n",
       "      <td>25259722953995.000000000</td>\n",
       "    </tr>\n",
       "    <tr>\n",
       "      <th>1</th>\n",
       "      <td>bc1qgdjqv0av3q56jvd82tkdjpy7gdp9ut8tlqmgrpmv24...</td>\n",
       "      <td>witness_v0_scripthash</td>\n",
       "      <td>16800998565831.000000000</td>\n",
       "    </tr>\n",
       "    <tr>\n",
       "      <th>2</th>\n",
       "      <td>1P5ZEDWTKTFGxQjZphgWPQUpe554WKDfHQ</td>\n",
       "      <td>pubkeyhash</td>\n",
       "      <td>12642856918840.000000000</td>\n",
       "    </tr>\n",
       "    <tr>\n",
       "      <th>3</th>\n",
       "      <td>3LYJfcfHPXYJreMsASk2jkn69LWEYKzexb</td>\n",
       "      <td>scripthash</td>\n",
       "      <td>11660113654657.000000000</td>\n",
       "    </tr>\n",
       "    <tr>\n",
       "      <th>4</th>\n",
       "      <td>bc1qazcm763858nkj2dj986etajv6wquslv8uxwczt</td>\n",
       "      <td>witness_v0_keyhash</td>\n",
       "      <td>9464329910722.000000000</td>\n",
       "    </tr>\n",
       "    <tr>\n",
       "      <th>...</th>\n",
       "      <td>...</td>\n",
       "      <td>...</td>\n",
       "      <td>...</td>\n",
       "    </tr>\n",
       "    <tr>\n",
       "      <th>995</th>\n",
       "      <td>15HDbh92juxL9NRW4sm8wo3hmDoc32vWNM</td>\n",
       "      <td>pubkeyhash</td>\n",
       "      <td>186109810245.000000000</td>\n",
       "    </tr>\n",
       "    <tr>\n",
       "      <th>996</th>\n",
       "      <td>1CeD3b9j2KeSN3BgfcQCSpENCA99dg3qQp</td>\n",
       "      <td>pubkeyhash</td>\n",
       "      <td>186042495808.000000000</td>\n",
       "    </tr>\n",
       "    <tr>\n",
       "      <th>997</th>\n",
       "      <td>33wbHsWMaf2KSDAWr792oozC4miHLt1VZq</td>\n",
       "      <td>scripthash</td>\n",
       "      <td>185677858631.000000000</td>\n",
       "    </tr>\n",
       "    <tr>\n",
       "      <th>998</th>\n",
       "      <td>1N3WD1vDYUdUsn9BKpjoEHryZtgNW66xqD</td>\n",
       "      <td>pubkeyhash</td>\n",
       "      <td>185005233187.000000000</td>\n",
       "    </tr>\n",
       "    <tr>\n",
       "      <th>999</th>\n",
       "      <td>3QYYhJ4messybdrK4pbNUPu9VUpCs3NgEp</td>\n",
       "      <td>scripthash</td>\n",
       "      <td>183736071000.000000000</td>\n",
       "    </tr>\n",
       "  </tbody>\n",
       "</table>\n",
       "<p>1000 rows × 3 columns</p>\n",
       "</div>"
      ],
      "text/plain": [
       "                                               address                   type  \\\n",
       "0                   34xp4vRoCGJym3xR7yCVPFHoCNxv4Twseo             scripthash   \n",
       "1    bc1qgdjqv0av3q56jvd82tkdjpy7gdp9ut8tlqmgrpmv24...  witness_v0_scripthash   \n",
       "2                   1P5ZEDWTKTFGxQjZphgWPQUpe554WKDfHQ             pubkeyhash   \n",
       "3                   3LYJfcfHPXYJreMsASk2jkn69LWEYKzexb             scripthash   \n",
       "4           bc1qazcm763858nkj2dj986etajv6wquslv8uxwczt     witness_v0_keyhash   \n",
       "..                                                 ...                    ...   \n",
       "995                 15HDbh92juxL9NRW4sm8wo3hmDoc32vWNM             pubkeyhash   \n",
       "996                 1CeD3b9j2KeSN3BgfcQCSpENCA99dg3qQp             pubkeyhash   \n",
       "997                 33wbHsWMaf2KSDAWr792oozC4miHLt1VZq             scripthash   \n",
       "998                 1N3WD1vDYUdUsn9BKpjoEHryZtgNW66xqD             pubkeyhash   \n",
       "999                 3QYYhJ4messybdrK4pbNUPu9VUpCs3NgEp             scripthash   \n",
       "\n",
       "                      balance  \n",
       "0    25259722953995.000000000  \n",
       "1    16800998565831.000000000  \n",
       "2    12642856918840.000000000  \n",
       "3    11660113654657.000000000  \n",
       "4     9464329910722.000000000  \n",
       "..                        ...  \n",
       "995    186109810245.000000000  \n",
       "996    186042495808.000000000  \n",
       "997    185677858631.000000000  \n",
       "998    185005233187.000000000  \n",
       "999    183736071000.000000000  \n",
       "\n",
       "[1000 rows x 3 columns]"
      ]
     },
     "execution_count": 7,
     "metadata": {},
     "output_type": "execute_result"
    }
   ],
   "source": [
    "Top_1000_balances"
   ]
  },
  {
   "cell_type": "code",
   "execution_count": 8,
   "id": "4655b646",
   "metadata": {},
   "outputs": [
    {
     "data": {
      "text/plain": [
       "['blocks', 'transactions']"
      ]
     },
     "execution_count": 8,
     "metadata": {},
     "output_type": "execute_result"
    }
   ],
   "source": [
    "# Bigquery Helper\n",
    "bitcoin = BigQueryHelper(\"bigquery-public-data\",\"bitcoin_blockchain\")\n",
    "\n",
    "bitcoin.list_tables()"
   ]
  },
  {
   "cell_type": "markdown",
   "id": "c0d9558d",
   "metadata": {},
   "source": [
    "## Exploratory Data Analysis"
   ]
  },
  {
   "cell_type": "code",
   "execution_count": 37,
   "id": "fcd884e8",
   "metadata": {},
   "outputs": [
    {
     "name": "stderr",
     "output_type": "stream",
     "text": [
      "Query complete after 0.01s: 100%|██████████| 24/24 [00:00<00:00, 9364.03query/s]\n",
      "Downloading: 100%|██████████████████████| 4810/4810 [00:01<00:00, 2976.58rows/s]\n"
     ]
    }
   ],
   "source": [
    "%%bigquery gini_index\n",
    "WITH double_entry_book AS (\n",
    "    -- debits\n",
    "    SELECT\n",
    "     array_to_string(inputs.addresses, \",\") as address\n",
    "    , inputs.type\n",
    "    , -inputs.value as value\n",
    "    , block_timestamp\n",
    "    FROM `bigquery-public-data.crypto_bitcoin.inputs` as inputs\n",
    " \n",
    "    UNION ALL\n",
    " \n",
    "    -- credits\n",
    "    SELECT\n",
    "     array_to_string(outputs.addresses, \",\") as address\n",
    "    , outputs.type\n",
    "    , outputs.value as value\n",
    "    , block_timestamp\n",
    "    FROM `bigquery-public-data.crypto_bitcoin.outputs` as outputs\n",
    ")\n",
    ",double_entry_book_by_date as (\n",
    "    select \n",
    "        date(block_timestamp) as date, \n",
    "        address, \n",
    "        sum(value / POWER(10,0)) as value\n",
    "    from double_entry_book\n",
    "    group by address, date\n",
    ")\n",
    ",daily_balances_with_gaps as (\n",
    "    select \n",
    "        address, \n",
    "        date,\n",
    "        sum(value) over (partition by address order by date) as balance,\n",
    "        lead(date, 1, current_date()) over (partition by address order by date) as next_date\n",
    "        from double_entry_book_by_date\n",
    ")\n",
    ",calendar as (\n",
    "    select date from unnest(generate_date_array('2009-01-12', current_date())) as date\n",
    ")\n",
    ",daily_balances as (\n",
    "    select address, calendar.date, balance\n",
    "    from daily_balances_with_gaps\n",
    "    join calendar on daily_balances_with_gaps.date <= calendar.date and calendar.date < daily_balances_with_gaps.next_date\n",
    ")\n",
    ",supply as (\n",
    "    select\n",
    "        date,\n",
    "        sum(balance) as daily_supply\n",
    "    from daily_balances\n",
    "    group by date\n",
    ")\n",
    ",ranked_daily_balances as (\n",
    "    select \n",
    "        daily_balances.date,\n",
    "        balance,\n",
    "        row_number() over (partition by daily_balances.date order by balance desc) as rank\n",
    "    from daily_balances\n",
    "    join supply on daily_balances.date = supply.date\n",
    "    where safe_divide(balance, daily_supply) >= 0.0001\n",
    "    ORDER BY safe_divide(balance, daily_supply) DESC\n",
    ")\n",
    "\n",
    "select \n",
    "    date, \n",
    "    -- (1 − 2B) https://en.wikipedia.org/wiki/Gini_coefficient\n",
    "    1 - 2 * sum((balance * (rank - 1) + balance / 2)) / count(*) / sum(balance) as gini\n",
    "from ranked_daily_balances\n",
    "group by date\n",
    "order by date asc"
   ]
  },
  {
   "cell_type": "code",
   "execution_count": 39,
   "id": "c6bed6f1",
   "metadata": {},
   "outputs": [],
   "source": [
    "#dataset for Gini index to compare with other econometric measures\n",
    "gini_index['gini'] = gini_index['gini'].astype('float64')\n",
    "gini_index['date'] = pd.to_datetime(gini_index['date'])\n",
    "\n",
    "gini_index.info()"
   ]
  },
  {
   "cell_type": "code",
   "execution_count": 40,
   "id": "2f2a036f",
   "metadata": {},
   "outputs": [
    {
     "data": {
      "image/png": "[encoded data removed]",
      "text/plain": [
       "<Figure size 720x432 with 1 Axes>"
      ]
     },
     "metadata": {},
     "output_type": "display_data"
    }
   ],
   "source": [
    "plt.figure(figsize = [10,6])\n",
    "sns.lineplot(data=gini_index, x = 'date', y = 'gini', palette=\"tab10\", linewidth=1)\n",
    "plt.title(\"Bitcoin Gini index over time\")\n",
    "plt.show()"
   ]
  },
  {
   "cell_type": "code",
   "execution_count": 41,
   "id": "108aef21",
   "metadata": {},
   "outputs": [],
   "source": [
    "# export gini index dataset to avoid running query again \n",
    "gini_index.to_csv(\"Bitcoin_Gini-index.csv\")"
   ]
  },
  {
   "cell_type": "code",
   "execution_count": 49,
   "id": "03f458df",
   "metadata": {},
   "outputs": [
    {
     "data": {
      "text/plain": [
       "Index(['fees_per_byte', 'txn_cnt'], dtype='object')"
      ]
     },
     "execution_count": 49,
     "metadata": {},
     "output_type": "execute_result"
    }
   ],
   "source": [
    "# transaction fees bitcoin data\n",
    "query = \"\"\"\n",
    "SELECT \n",
    "    ROUND((input_value - output_value)/ size, 0) AS fees_per_byte,\n",
    "    COUNT(*) AS txn_cnt\n",
    "FROM\n",
    "  `bigquery-public-data.crypto_bitcoin.transactions`\n",
    "WHERE TRUE\n",
    "  AND block_timestamp >= '2018-01-01' \n",
    "  AND is_coinbase IS FALSE\n",
    "GROUP BY 1\n",
    "\"\"\"\n",
    "query_job = client.query(query)\n",
    "\n",
    "iterator = query_job.result(timeout=30)\n",
    "rows = list(iterator)\n",
    "\n",
    "# Transform the rows into a nice pandas dataframe\n",
    "zero_fee_btc = pd.DataFrame(data=[list(x.values()) for x in rows], columns=list(rows[0].keys()))\n",
    "\n",
    "# Look at the first 10 headlines\n",
    "zero_fee_btc.columns"
   ]
  },
  {
   "cell_type": "code",
   "execution_count": 53,
   "id": "1b2529d9",
   "metadata": {},
   "outputs": [
    {
     "data": {
      "text/html": [
       "<div>\n",
       "<style scoped>\n",
       "    .dataframe tbody tr th:only-of-type {\n",
       "        vertical-align: middle;\n",
       "    }\n",
       "\n",
       "    .dataframe tbody tr th {\n",
       "        vertical-align: top;\n",
       "    }\n",
       "\n",
       "    .dataframe thead th {\n",
       "        text-align: right;\n",
       "    }\n",
       "</style>\n",
       "<table border=\"1\" class=\"dataframe\">\n",
       "  <thead>\n",
       "    <tr style=\"text-align: right;\">\n",
       "      <th></th>\n",
       "      <th>fees_per_byte</th>\n",
       "      <th>txn_cnt</th>\n",
       "    </tr>\n",
       "  </thead>\n",
       "  <tbody>\n",
       "    <tr>\n",
       "      <th>0</th>\n",
       "      <td>2783</td>\n",
       "      <td>6</td>\n",
       "    </tr>\n",
       "    <tr>\n",
       "      <th>1</th>\n",
       "      <td>5285</td>\n",
       "      <td>1</td>\n",
       "    </tr>\n",
       "    <tr>\n",
       "      <th>2</th>\n",
       "      <td>6913</td>\n",
       "      <td>2</td>\n",
       "    </tr>\n",
       "    <tr>\n",
       "      <th>3</th>\n",
       "      <td>5918</td>\n",
       "      <td>1</td>\n",
       "    </tr>\n",
       "    <tr>\n",
       "      <th>4</th>\n",
       "      <td>3786</td>\n",
       "      <td>3</td>\n",
       "    </tr>\n",
       "    <tr>\n",
       "      <th>...</th>\n",
       "      <td>...</td>\n",
       "      <td>...</td>\n",
       "    </tr>\n",
       "    <tr>\n",
       "      <th>8154</th>\n",
       "      <td>12396</td>\n",
       "      <td>1</td>\n",
       "    </tr>\n",
       "    <tr>\n",
       "      <th>8155</th>\n",
       "      <td>4896</td>\n",
       "      <td>4</td>\n",
       "    </tr>\n",
       "    <tr>\n",
       "      <th>8156</th>\n",
       "      <td>8132</td>\n",
       "      <td>2</td>\n",
       "    </tr>\n",
       "    <tr>\n",
       "      <th>8157</th>\n",
       "      <td>8069</td>\n",
       "      <td>1</td>\n",
       "    </tr>\n",
       "    <tr>\n",
       "      <th>8158</th>\n",
       "      <td>6892</td>\n",
       "      <td>1</td>\n",
       "    </tr>\n",
       "  </tbody>\n",
       "</table>\n",
       "<p>8159 rows × 2 columns</p>\n",
       "</div>"
      ],
      "text/plain": [
       "     fees_per_byte  txn_cnt\n",
       "0             2783        6\n",
       "1             5285        1\n",
       "2             6913        2\n",
       "3             5918        1\n",
       "4             3786        3\n",
       "...            ...      ...\n",
       "8154         12396        1\n",
       "8155          4896        4\n",
       "8156          8132        2\n",
       "8157          8069        1\n",
       "8158          6892        1\n",
       "\n",
       "[8159 rows x 2 columns]"
      ]
     },
     "execution_count": 53,
     "metadata": {},
     "output_type": "execute_result"
    }
   ],
   "source": [
    "zero_fee_btc"
   ]
  },
  {
   "cell_type": "code",
   "execution_count": 54,
   "id": "68e56cbd",
   "metadata": {},
   "outputs": [
    {
     "data": {
      "text/html": [
       "<div>\n",
       "<style scoped>\n",
       "    .dataframe tbody tr th:only-of-type {\n",
       "        vertical-align: middle;\n",
       "    }\n",
       "\n",
       "    .dataframe tbody tr th {\n",
       "        vertical-align: top;\n",
       "    }\n",
       "\n",
       "    .dataframe thead th {\n",
       "        text-align: right;\n",
       "    }\n",
       "</style>\n",
       "<table border=\"1\" class=\"dataframe\">\n",
       "  <thead>\n",
       "    <tr style=\"text-align: right;\">\n",
       "      <th></th>\n",
       "      <th>day</th>\n",
       "      <th>NoOfTrans</th>\n",
       "    </tr>\n",
       "  </thead>\n",
       "  <tbody>\n",
       "    <tr>\n",
       "      <th>0</th>\n",
       "      <td>2017-12-14 00:00:00+00:00</td>\n",
       "      <td>490644</td>\n",
       "    </tr>\n",
       "    <tr>\n",
       "      <th>1</th>\n",
       "      <td>2017-12-06 00:00:00+00:00</td>\n",
       "      <td>443587</td>\n",
       "    </tr>\n",
       "    <tr>\n",
       "      <th>2</th>\n",
       "      <td>2018-01-04 00:00:00+00:00</td>\n",
       "      <td>425008</td>\n",
       "    </tr>\n",
       "    <tr>\n",
       "      <th>3</th>\n",
       "      <td>2017-12-13 00:00:00+00:00</td>\n",
       "      <td>424579</td>\n",
       "    </tr>\n",
       "    <tr>\n",
       "      <th>4</th>\n",
       "      <td>2017-12-01 00:00:00+00:00</td>\n",
       "      <td>412908</td>\n",
       "    </tr>\n",
       "  </tbody>\n",
       "</table>\n",
       "</div>"
      ],
      "text/plain": [
       "                        day  NoOfTrans\n",
       "0 2017-12-14 00:00:00+00:00     490644\n",
       "1 2017-12-06 00:00:00+00:00     443587\n",
       "2 2018-01-04 00:00:00+00:00     425008\n",
       "3 2017-12-13 00:00:00+00:00     424579\n",
       "4 2017-12-01 00:00:00+00:00     412908"
      ]
     },
     "execution_count": 54,
     "metadata": {},
     "output_type": "execute_result"
    }
   ],
   "source": [
    "query = \"\"\"\n",
    "#standardSQL\n",
    "SELECT\n",
    "  o.day,\n",
    "  COUNT(o.transaction_id) AS NoOfTrans\n",
    "FROM (\n",
    "  SELECT\n",
    "    TIMESTAMP_MILLIS((timestamp - MOD(timestamp,\n",
    "          86400000))) AS day,\n",
    "    transaction_id\n",
    "  FROM\n",
    "    `bigquery-public-data.bitcoin_blockchain.transactions` ) AS o\n",
    "GROUP BY\n",
    "  day\n",
    "ORDER BY\n",
    "NoOfTrans desc\n",
    "\"\"\"\n",
    "query_job = client.query(query)\n",
    "\n",
    "iterator = query_job.result(timeout=30)\n",
    "rows = list(iterator)\n",
    "\n",
    "# Transform the rows into a nice pandas dataframe\n",
    "trans_day = pd.DataFrame(data=[list(x.values()) for x in rows], columns=list(rows[0].keys()))\n",
    "\n",
    "# Look at the first 10 headlines\n",
    "trans_day.head()"
   ]
  },
  {
   "cell_type": "code",
   "execution_count": null,
   "id": "7500f845",
   "metadata": {},
   "outputs": [],
   "source": []
  }
 ],
 "metadata": {
  "kernelspec": {
   "display_name": "Python 3 (ipykernel)",
   "language": "python",
   "name": "python3"
  },
  "language_info": {
   "codemirror_mode": {
    "name": "ipython",
    "version": 3
   },
   "file_extension": ".py",
   "mimetype": "text/x-python",
   "name": "python",
   "nbconvert_exporter": "python",
   "pygments_lexer": "ipython3",
   "version": "3.7.11"
  }
 },
 "nbformat": 4,
 "nbformat_minor": 5
}
